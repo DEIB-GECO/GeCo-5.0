{ "cell_type": "code","execution_count": 0,"metadata": {},"outputs": [],"source": [import pandas as pd
DS_0 = pd.read_csv("DS_0.csv")
]},{ "cell_type": "code","execution_count": 0,"metadata": {},"outputs": [],"source": [import pandas as pd
DS_0 = pd.read_csv("DS_0.csv")
]},{ "cell_type": "code","execution_count": 0,"metadata": {},"outputs": [],"source": [import pandas as pd
DS_0 = pd.read_csv("DS_0.csv")
]},{ "cell_type": "code","execution_count": 0,"metadata": {},"outputs": [],"source": [import pandas as pd
DS_0 = pd.read_csv("DS_0.csv")
]},{ "cell_type": "code","execution_count": 0,"metadata": {},"outputs": [],"source": [import pandas as pd
DS_0 = pd.read_csv("DS_0.csv")
]},